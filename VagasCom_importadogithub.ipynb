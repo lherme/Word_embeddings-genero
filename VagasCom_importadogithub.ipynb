{
 "cells": [
  {
   "attachments": {},
   "cell_type": "markdown",
   "metadata": {},
   "source": [
    "#### Importando libraries, configurando webscraper and abrindo navegador"
   ]
  },
  {
   "cell_type": "code",
   "execution_count": null,
   "metadata": {},
   "outputs": [],
   "source": [
    "from selenium import webdriver\n",
    "from selenium.webdriver.chrome.service import Service\n",
    "from selenium.webdriver.common.by import By\n",
    "from selenium.webdriver.common.keys import Keys\n",
    "from selenium.webdriver.support.ui import WebDriverWait\n",
    "from selenium.webdriver.support import expected_conditions as EC\n",
    "from selenium.common.exceptions import TimeoutException\n",
    "from selenium.webdriver.common.action_chains import ActionChains\n",
    "from selenium.common.exceptions import NoSuchElementException\n",
    "from bs4 import BeautifulSoup\n",
    "from urllib.parse import urljoin\n",
    "import pandas as pd\n",
    "import time\n",
    "\n",
    "#setting driver\n",
    "options = webdriver.ChromeOptions()\n",
    "options.add_argument(\"--incognito\")\n",
    "options.add_argument('--disable-gpu')\n",
    "\n",
    "#creating driver\n",
    "s = Service('/usr/local/bin/chromedriver')\n",
    "driver = webdriver.Chrome(service=s, options=options)\n",
    "driver.maximize_window()\n",
    "driver.get(\"https://www.vagas.com.br/vagas-de-?ordenar_por=mais_recentes\")\n",
    "\n",
    "time.sleep(2)  # Allow 2 seconds for the web page to open\n",
    "scroll_pause_time = 1 # You can set your own pause time. My laptop is a bit slow so I use 1 sec\n",
    "screen_height = driver.execute_script(\"return window.screen.height;\")   # get the screen height of the web"
   ]
  },
  {
   "attachments": {},
   "cell_type": "markdown",
   "metadata": {},
   "source": [
    "#### Clicando em \"See more posts\" (\"Ver mais vagas\")"
   ]
  },
  {
   "cell_type": "code",
   "execution_count": null,
   "metadata": {},
   "outputs": [],
   "source": [
    "time.sleep(2)  # Allow 2 seconds for the web page to open\n",
    "scroll_pause_time = 1 # You can set your own pause time. My laptop is a bit slow so I use 1 sec\n",
    "\n",
    "j = 0\n",
    "\n",
    "while j <= 15:\n",
    "    timeout = 30\n",
    "    # expand_button_xpath = '/html/body/div[1]/div/main/section/button'\n",
    "    element = WebDriverWait(driver, timeout).until(EC.presence_of_element_located((By.ID, 'maisVagas')))\n",
    "    driver.execute_script(\"arguments[0].click();\", element)\n",
    "    \n",
    "    j += 1\n",
    "    time.sleep(2)\n",
    "\n",
    "screen_height = driver.execute_script(\"return window.screen.height;\")   # get the screen height of the web\n",
    "i = 1\n",
    "\n",
    "while True:\n",
    "    # scroll one screen height each time\n",
    "    driver.execute_script(\"window.scrollTo(0, {screen_height}*{i});\".format(screen_height=screen_height, i=i))  \n",
    "    i += 1\n",
    "    time.sleep(scroll_pause_time)\n",
    "    # update scroll height each time after scrolled, as the scroll height can change after we scrolled the page\n",
    "    scroll_height = driver.execute_script(\"return document.body.scrollHeight;\")  \n",
    "    # Break the loop when the height we need to scroll to is larger than the total scroll height\n",
    "    if (screen_height) * i > scroll_height:\n",
    "        break"
   ]
  },
  {
   "attachments": {},
   "cell_type": "markdown",
   "metadata": {},
   "source": [
    "#### Compilando links"
   ]
  },
  {
   "cell_type": "code",
   "execution_count": null,
   "metadata": {},
   "outputs": [],
   "source": [
    "wait = WebDriverWait(driver, 5)\n",
    "\n",
    "links=[]\n",
    "new_links = wait.until(EC.presence_of_all_elements_located((By.CLASS_NAME, 'link-detalhes-vaga')))\n",
    "links.extend([l.get_attribute(\"href\") for l in new_links])\n",
    "print(links)"
   ]
  },
  {
   "attachments": {},
   "cell_type": "markdown",
   "metadata": {},
   "source": [
    "#### Criando dataframe e inserindo dados"
   ]
  },
  {
   "cell_type": "code",
   "execution_count": null,
   "metadata": {},
   "outputs": [],
   "source": [
    "from tqdm.notebook import tqdm_notebook\n",
    "import time\n",
    "\n",
    "df_job = pd.DataFrame() # Creating empty dataframe\n",
    "\n",
    "for i, l in enumerate(tqdm_notebook(links)):\n",
    "    driver.get(l)\n",
    "    time.sleep(5) \n",
    "    #JOB DESCRIPTION\n",
    "    try:\n",
    "        job_desc = driver.find_elements(By.CLASS_NAME, 'job-description__text')\n",
    "        for ele in job_desc:\n",
    "            desc = BeautifulSoup(ele.get_attribute('innerText'), 'html.parser')\n",
    "    except NoSuchElementException:\n",
    "        desc = ''\n",
    "    #JOB TITLE\n",
    "    try: \n",
    "        job_title = driver.find_elements(By.CLASS_NAME, 'job-shortdescription__title')\n",
    "        for ele in job_title:\n",
    "            title = BeautifulSoup(ele.get_attribute('innerText'), 'html.parser')\n",
    "    except NoSuchElementException:\n",
    "        title = ''\n",
    "    #COMPANY\n",
    "    try: \n",
    "        job_empresa = driver.find_elements(By.CLASS_NAME, 'job-shortdescription__company')\n",
    "        for ele in job_empresa:\n",
    "            empresa = BeautifulSoup(ele.get_attribute('innerText'), 'html.parser')\n",
    "    except NoSuchElementException:\n",
    "        empresa = ''\n",
    "    #LOCATION\n",
    "    try: \n",
    "        job_localidade = driver.find_elements(By.CLASS_NAME, 'info-localizacao')\n",
    "        for ele in job_localidade:\n",
    "            localidade = BeautifulSoup(ele.get_attribute('innerText'), 'html.parser')\n",
    "    except NoSuchElementException:\n",
    "        localidade = ''\n",
    "    #POST DATE\n",
    "    try: \n",
    "        job_data_publ = driver.find_elements(By.CLASS_NAME, 'job-breadcrumb__item--published')\n",
    "        for ele in job_data_publ:\n",
    "            data_publ = BeautifulSoup(ele.get_attribute('innerText'), 'html.parser')\n",
    "    except NoSuchElementException:\n",
    "        data_publ = ''\n",
    "    #SENIORITY LEVEL\n",
    "    try: \n",
    "        job_experiencia = driver.find_elements(By.CLASS_NAME, 'job-hierarchylist__item--level')\n",
    "        for ele in job_experiencia:\n",
    "            experiencia = BeautifulSoup(ele.get_attribute('innerText'), 'html.parser')\n",
    "    except NoSuchElementException:\n",
    "        experiencia = ''\n",
    "\n",
    "    ## creating dictionnary with job data\n",
    "    dict = {'Plataforma': 'VagasCom','Titulo': title.text, 'Empresa': empresa.text, 'Localidade': localidade.text, 'Data_Publicacao': data_publ.text.replace('Publicada ', '').replace('Anunciada: há ', '').replace('Anunciada: ', '').capitalize(), 'Descricao': desc.text, 'Nivel_experiencia': experiencia.text, 'Tipo_emprego': '', 'Funcao': '', 'Setor': ''}\n",
    "    ## inserting dictionnary in dataframe\n",
    "    df_job = df_job.append(dict, ignore_index = True)"
   ]
  },
  {
   "attachments": {},
   "cell_type": "markdown",
   "metadata": {},
   "source": [
    "#### Salvando arquivo com CSV formato"
   ]
  },
  {
   "cell_type": "code",
   "execution_count": null,
   "metadata": {},
   "outputs": [],
   "source": [
    "from datetime import datetime\n",
    "currentDateTime = datetime.now().strftime(\"%d-%m-%Y %H-%M-%S\")\n",
    "df_job.to_csv(f\"./Data/Extracao_VagasCom_{currentDateTime}.csv\", index = False, encoding='utf-8-sig', sep=';')\n",
    "\n",
    "driver.quit()"
   ]
  },
  {
   "cell_type": "code",
   "execution_count": null,
   "metadata": {},
   "outputs": [],
   "source": [
    "df_job"
   ]
  }
 ],
 "metadata": {
  "kernelspec": {
   "display_name": "Python 3.9.2 64-bit",
   "language": "python",
   "name": "python3"
  },
  "language_info": {
   "codemirror_mode": {
    "name": "ipython",
    "version": 3
   },
   "file_extension": ".py",
   "mimetype": "text/x-python",
   "name": "python",
   "nbconvert_exporter": "python",
   "pygments_lexer": "ipython3",
   "version": "3.9.2"
  },
  "orig_nbformat": 4,
  "vscode": {
   "interpreter": {
    "hash": "aee8b7b246df8f9039afb4144a1f6fd8d2ca17a180786b69acc140d282b71a49"
   }
  }
 },
 "nbformat": 4,
 "nbformat_minor": 2
}
