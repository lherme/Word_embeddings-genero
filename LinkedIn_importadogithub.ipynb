{
 "cells": [
  {
   "attachments": {},
   "cell_type": "markdown",
   "metadata": {},
   "source": [
    "#### Importando libraries"
   ]
  },
  {
   "cell_type": "code",
   "execution_count": null,
   "metadata": {},
   "outputs": [],
   "source": [
    "from selenium import webdriver\n",
    "from selenium.webdriver.chrome.service import Service\n",
    "from selenium.webdriver.common.by import By\n",
    "from selenium.webdriver.common.keys import Keys\n",
    "from selenium.webdriver.support.ui import WebDriverWait\n",
    "from selenium.webdriver.support import expected_conditions as EC\n",
    "from selenium.common.exceptions import TimeoutException\n",
    "from selenium.webdriver.common.action_chains import ActionChains\n",
    "from selenium.common.exceptions import NoSuchElementException\n",
    "from bs4 import BeautifulSoup\n",
    "from urllib.parse import urljoin\n",
    "import pandas as pd\n",
    "import time"
   ]
  },
  {
   "attachments": {},
   "cell_type": "markdown",
   "metadata": {},
   "source": [
    "#### Configurando webscrapper para rolagem infinita de página"
   ]
  },
  {
   "cell_type": "code",
   "execution_count": null,
   "metadata": {},
   "outputs": [],
   "source": [
    "#setting driver\n",
    "options = webdriver.ChromeOptions()\n",
    "options.add_argument(\"--incognito\")\n",
    "options.add_argument('--disable-gpu')\n",
    "\n",
    "#creating driver\n",
    "s = Service('/usr/local/bin/chromedriver')\n",
    "driver = webdriver.Chrome(service=s, options=options)\n",
    "driver.maximize_window()\n",
    "driver.get(\"https://www.linkedin.com/jobs/search/?keywords=&location=Brazil&locationId=&geoId=106057199&f_TPR=r86400\")\n",
    "\n",
    "time.sleep(2)  # Allow 2 seconds for the web page to open\n",
    "scroll_pause_time = 1 # You can set your own pause time. My laptop is a bit slow so I use 1 sec\n",
    "screen_height = driver.execute_script(\"return window.screen.height;\")   # get the screen height of the web\n",
    "i = 1\n",
    "\n",
    "while True:\n",
    "    # scroll one screen height each time\n",
    "    driver.execute_script(\"window.scrollTo(0, {screen_height}*{i});\".format(screen_height=screen_height, i=i))  \n",
    "    i += 1\n",
    "    time.sleep(scroll_pause_time)\n",
    "    # update scroll height each time after scrolled, as the scroll height can change after we scrolled the page\n",
    "    scroll_height = driver.execute_script(\"return document.body.scrollHeight;\")  \n",
    "    # Break the loop when the height we need to scroll to is larger than the total scroll height\n",
    "    if (screen_height) * i > scroll_height:\n",
    "        break"
   ]
  },
  {
   "attachments": {},
   "cell_type": "markdown",
   "metadata": {},
   "source": [
    "#### Clicando em \"See more jobs\" (\"Ver mais vagas\")"
   ]
  },
  {
   "cell_type": "code",
   "execution_count": null,
   "metadata": {},
   "outputs": [],
   "source": [
    "j = 0\n",
    "\n",
    "while j <= 33:\n",
    "\n",
    "    timeout = 30\n",
    "    expand_button_xpath = '/html/body/div[1]/div/main/section/button'\n",
    "    element = WebDriverWait(driver, timeout).until(EC.presence_of_element_located((By.XPATH, expand_button_xpath)))\n",
    "    driver.execute_script(\"arguments[0].click();\", element)\n",
    "    \n",
    "    j += 1\n",
    "    time.sleep(2)\n",
    "    "
   ]
  },
  {
   "attachments": {},
   "cell_type": "markdown",
   "metadata": {},
   "source": [
    "#### Compilando links"
   ]
  },
  {
   "cell_type": "code",
   "execution_count": null,
   "metadata": {},
   "outputs": [],
   "source": [
    "wait = WebDriverWait(driver, 5)\n",
    "\n",
    "links = []\n",
    "new_links = wait.until(EC.presence_of_all_elements_located((By.XPATH, \"//a[@data-tracking-control-name='public_jobs_jserp-result_search-card']\")))\n",
    "links.extend([l.get_attribute(\"href\") for l in new_links])\n",
    "links = [x[:-41] for x in links]\n",
    "print(links)"
   ]
  },
  {
   "attachments": {},
   "cell_type": "markdown",
   "metadata": {},
   "source": [
    "#### Criando dataframe e inserindo dados"
   ]
  },
  {
   "cell_type": "code",
   "execution_count": null,
   "metadata": {},
   "outputs": [],
   "source": [
    "from tqdm.notebook import tqdm_notebook\n",
    "\n",
    "df_job = pd.DataFrame() # Creating empty dataframe\n",
    "j = 0\n",
    "\n",
    "for i, l in enumerate(tqdm_notebook(links)):\n",
    "    driver.get(l)\n",
    "    time.sleep(2) \n",
    "    #JOB DESCRIPTION\n",
    "    try:\n",
    "        # job_desc = driver.find_elements(By.ID, 'jobDescriptionText')\n",
    "        job_desc = driver.find_elements(By.CLASS_NAME, 'show-more-less-html__markup')\n",
    "        for ele in job_desc:\n",
    "            desc = BeautifulSoup(ele.get_attribute('innerText'), 'html.parser')\n",
    "    except NoSuchElementException:\n",
    "        desc = ''\n",
    "    #JOB TITLE\n",
    "    try: \n",
    "        # job_title = driver.find_elements(By.CLASS_NAME, 'jobsearch-JobInfoHeader-title')\n",
    "        job_title = driver.find_elements(By.CLASS_NAME, 'topcard__title')\n",
    "        for ele in job_title:\n",
    "            title = BeautifulSoup(ele.get_attribute('innerText'), 'html.parser')\n",
    "    except NoSuchElementException:\n",
    "        title = ''\n",
    "    #COMPANY\n",
    "    try: \n",
    "        # job_empresa = driver.find_elements(By.XPATH, \"//div[@class='icl-u-lg-mr--sm icl-u-xs-mr--xs']\")\n",
    "        # job_empresa = driver.find_elements(By.XPATH, '/html/body/div[1]/div[2]/div/div[3]/div/div/div[1]/div[1]/div[2]/div[1]/div[2]/div/div/div/div[1]/div[2]/div')\n",
    "        job_empresa = driver.find_elements(By.CLASS_NAME, 'topcard__org-name-link')\n",
    "        for ele in job_empresa:\n",
    "            empresa = BeautifulSoup(ele.get_attribute('innerText'), 'html.parser')\n",
    "    except NoSuchElementException:\n",
    "        empresa = ''\n",
    "    #LOCATION\n",
    "    try: \n",
    "        # job_localidade = driver.find_elements(By.XPATH, '/html/body/div[1]/div[2]/div/div[3]/div/div/div[1]/div[1]/div[2]/div[1]/div[2]/div/div/div/div[2]/div')\n",
    "        job_localidade = driver.find_elements(By.XPATH, '/html/body/main/section[1]/div/section[2]/div/div[1]/div/h4/div[1]/span[2]')\n",
    "        for ele in job_localidade:\n",
    "            localidade = BeautifulSoup(ele.get_attribute('innerText'), 'html.parser')\n",
    "    except NoSuchElementException:\n",
    "        localidade = ''\n",
    "    #POST DATE\n",
    "    try: \n",
    "        # job_data_publ = driver.find_elements(By.CLASS_NAME, 'jobsearch-HiringInsights-entry--text')\n",
    "        # job_data_publ = driver.find_elements(By.XPATH, '/html/body/div[1]/div[2]/div/div[3]/div/div/div[1]/div[1]/div[5]/div[6]/ul/li/span[2]')\n",
    "        job_data_publ = driver.find_elements(By.CLASS_NAME, 'posted-time-ago__text')\n",
    "        for ele in job_data_publ:\n",
    "            data_publ = BeautifulSoup(ele.get_attribute('innerText'), 'html.parser')\n",
    "    except NoSuchElementException:\n",
    "        data_publ = ''\n",
    "\n",
    "    ## creating dictionnary with job data\n",
    "    dict = {'Plataforma': 'LinkedIn','Titulo': title.text, 'Empresa': empresa.text, 'Localidade': localidade.text, 'Data_Publicacao': data_publ.text.replace('Anunciada ', '').replace('Anunciada: há ', '').replace('Anunciada: ', '').capitalize(), 'Descricao': desc.text, 'Nivel_experiencia': '', 'Tipo_emprego': '', 'Funcao': '', 'Setor': ''}\n",
    "    ## inserting dictionnary in dataframe\n",
    "    df_job = df_job.append(dict, ignore_index = True)"
   ]
  },
  {
   "cell_type": "code",
   "execution_count": null,
   "metadata": {},
   "outputs": [],
   "source": [
    "from datetime import datetime\n",
    "currentDateTime = datetime.now().strftime(\"%d-%m-%Y %H-%M-%S\")\n",
    "df_job.to_csv(f\"./Data/Extracao_LinkedIn_{currentDateTime}.csv\", index = False, encoding='utf-8-sig', sep=';')\n",
    "\n",
    "driver.quit()"
   ]
  },
  {
   "cell_type": "code",
   "execution_count": null,
   "metadata": {},
   "outputs": [],
   "source": [
    "print(df_job)"
   ]
  }
 ],
 "metadata": {
  "kernelspec": {
   "display_name": "Python 3.9.2 64-bit",
   "language": "python",
   "name": "python3"
  },
  "language_info": {
   "codemirror_mode": {
    "name": "ipython",
    "version": 3
   },
   "file_extension": ".py",
   "mimetype": "text/x-python",
   "name": "python",
   "nbconvert_exporter": "python",
   "pygments_lexer": "ipython3",
   "version": "3.9.2"
  },
  "orig_nbformat": 4,
  "vscode": {
   "interpreter": {
    "hash": "aee8b7b246df8f9039afb4144a1f6fd8d2ca17a180786b69acc140d282b71a49"
   }
  }
 },
 "nbformat": 4,
 "nbformat_minor": 2
}
